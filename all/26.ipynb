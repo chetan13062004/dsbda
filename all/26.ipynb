{
 "cells": [
  {
   "cell_type": "code",
   "execution_count": 3,
   "id": "e15f5ade-0ee9-4aaf-9ef7-dd558e3a4e53",
   "metadata": {},
   "outputs": [
    {
     "name": "stdout",
     "output_type": "stream",
     "text": [
      "Logistic Regression Accuracy: 0.8\n",
      "Naive Bayes Accuracy: 0.9333333333333333\n",
      "\n",
      "Classification Report (Logistic Regression):\n",
      "               precision    recall  f1-score   support\n",
      "\n",
      "           0       0.00      0.00      0.00         3\n",
      "           1       0.80      1.00      0.89        12\n",
      "\n",
      "    accuracy                           0.80        15\n",
      "   macro avg       0.40      0.50      0.44        15\n",
      "weighted avg       0.64      0.80      0.71        15\n",
      "\n",
      "\n",
      "Classification Report (Naive Bayes):\n",
      "               precision    recall  f1-score   support\n",
      "\n",
      "           0       0.75      1.00      0.86         3\n",
      "           1       1.00      0.92      0.96        12\n",
      "\n",
      "    accuracy                           0.93        15\n",
      "   macro avg       0.88      0.96      0.91        15\n",
      "weighted avg       0.95      0.93      0.94        15\n",
      "\n"
     ]
    },
    {
     "name": "stderr",
     "output_type": "stream",
     "text": [
      "C:\\Users\\UMESH\\AppData\\Roaming\\Python\\Python310\\site-packages\\sklearn\\metrics\\_classification.py:1531: UndefinedMetricWarning: Precision is ill-defined and being set to 0.0 in labels with no predicted samples. Use `zero_division` parameter to control this behavior.\n",
      "  _warn_prf(average, modifier, f\"{metric.capitalize()} is\", len(result))\n",
      "C:\\Users\\UMESH\\AppData\\Roaming\\Python\\Python310\\site-packages\\sklearn\\metrics\\_classification.py:1531: UndefinedMetricWarning: Precision is ill-defined and being set to 0.0 in labels with no predicted samples. Use `zero_division` parameter to control this behavior.\n",
      "  _warn_prf(average, modifier, f\"{metric.capitalize()} is\", len(result))\n",
      "C:\\Users\\UMESH\\AppData\\Roaming\\Python\\Python310\\site-packages\\sklearn\\metrics\\_classification.py:1531: UndefinedMetricWarning: Precision is ill-defined and being set to 0.0 in labels with no predicted samples. Use `zero_division` parameter to control this behavior.\n",
      "  _warn_prf(average, modifier, f\"{metric.capitalize()} is\", len(result))\n"
     ]
    }
   ],
   "source": [
    "import pandas as pd\n",
    "import numpy as np\n",
    "from sklearn.model_selection import train_test_split\n",
    "from sklearn.linear_model import LogisticRegression\n",
    "from sklearn.naive_bayes import GaussianNB\n",
    "from sklearn.preprocessing import LabelEncoder, StandardScaler\n",
    "from sklearn.metrics import accuracy_score, classification_report\n",
    "from scipy.stats import zscore\n",
    "\n",
    "# Load dataset\n",
    "df = pd.read_csv(\"C:/Users/UMESH/Downloads/hepatitis_csv.csv\")  # Replace with your actual path if different\n",
    "df.head()\n",
    "\n",
    "# Step q: Data Cleaning\n",
    "df.replace('?', np.nan, inplace=True)\n",
    "df.dropna(inplace=True)\n",
    "\n",
    "# Convert to correct data types\n",
    "df = df.apply(pd.to_numeric, errors='ignore')\n",
    "\n",
    "# Remove negative values in numerical columns\n",
    "num_cols = df.select_dtypes(include=[np.number]).columns\n",
    "df = df[(df[num_cols] >= 0).all(axis=1)]\n",
    "\n",
    "# Step r: Outlier Removal using Z-score\n",
    "z_scores = df[num_cols].apply(zscore)\n",
    "df = df[(np.abs(z_scores) < 3).all(axis=1)]\n",
    "\n",
    "# Step s: Data Transformation (Label Encoding for categorical features)\n",
    "le = LabelEncoder()\n",
    "df['class'] = le.fit_transform(df['class'])  # Convert LIVE/DIE to 1/0\n",
    "\n",
    "# Encode other categorical columns\n",
    "cat_cols = df.select_dtypes(include='object').columns\n",
    "for col in cat_cols:\n",
    "    df[col] = le.fit_transform(df[col])\n",
    "\n",
    "# Feature and target separation\n",
    "X = df.drop('class', axis=1)\n",
    "y = df['class']\n",
    "\n",
    "# Scale numeric features\n",
    "scaler = StandardScaler()\n",
    "X_scaled = scaler.fit_transform(X)\n",
    "\n",
    "# Step t: Split data and build models\n",
    "X_train, X_test, y_train, y_test = train_test_split(X_scaled, y, test_size=0.2, random_state=42)\n",
    "\n",
    "# 1. Logistic Regression\n",
    "log_model = LogisticRegression()\n",
    "log_model.fit(X_train, y_train)\n",
    "y_pred_log = log_model.predict(X_test)\n",
    "acc_log = accuracy_score(y_test, y_pred_log)\n",
    "\n",
    "# 2. Naive Bayes\n",
    "nb_model = GaussianNB()\n",
    "nb_model.fit(X_train, y_train)\n",
    "y_pred_nb = nb_model.predict(X_test)\n",
    "acc_nb = accuracy_score(y_test, y_pred_nb)\n",
    "\n",
    "# Print results\n",
    "print(\"Logistic Regression Accuracy:\", acc_log)\n",
    "print(\"Naive Bayes Accuracy:\", acc_nb)\n",
    "print(\"\\nClassification Report (Logistic Regression):\\n\", classification_report(y_test, y_pred_log))\n",
    "print(\"\\nClassification Report (Naive Bayes):\\n\", classification_report(y_test, y_pred_nb))\n"
   ]
  },
  {
   "cell_type": "code",
   "execution_count": null,
   "id": "053fc496-21e0-45da-931c-fba1a86f0c71",
   "metadata": {},
   "outputs": [],
   "source": []
  },
  {
   "cell_type": "code",
   "execution_count": null,
   "id": "ac7c4fc5-d31e-44d7-8251-0f23620a7010",
   "metadata": {},
   "outputs": [],
   "source": []
  }
 ],
 "metadata": {
  "kernelspec": {
   "display_name": "Python 3 (ipykernel)",
   "language": "python",
   "name": "python3"
  },
  "language_info": {
   "codemirror_mode": {
    "name": "ipython",
    "version": 3
   },
   "file_extension": ".py",
   "mimetype": "text/x-python",
   "name": "python",
   "nbconvert_exporter": "python",
   "pygments_lexer": "ipython3",
   "version": "3.10.4"
  }
 },
 "nbformat": 4,
 "nbformat_minor": 5
}
