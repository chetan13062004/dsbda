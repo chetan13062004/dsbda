{
 "cells": [
  {
   "cell_type": "code",
   "execution_count": 54,
   "id": "c28eb262-cb84-40d2-a595-29bfbda90240",
   "metadata": {},
   "outputs": [],
   "source": [
    "import pandas as pd\n",
    "import numpy as np\n",
    "from sklearn.model_selection import train_test_split\n",
    "from sklearn.preprocessing import StandardScaler\n",
    "from sklearn.linear_model import LogisticRegression\n",
    "from sklearn.neighbors import KNeighborsClassifier\n",
    "from sklearn.metrics import accuracy_score\n",
    "import seaborn as sns\n",
    "import matplotlib.pyplot as plt"
   ]
  },
  {
   "cell_type": "code",
   "execution_count": 55,
   "id": "c249a390-4f28-4a50-ab3d-78ac71f0f04e",
   "metadata": {},
   "outputs": [],
   "source": [
    "df=pd.read_csv(\"E:/PICT 3rd/subject material/DSBDA Prep/Datasets/heart (1).csv\")"
   ]
  },
  {
   "cell_type": "code",
   "execution_count": 56,
   "id": "6cc6871b-fc33-472c-a093-b8b606a3fa9a",
   "metadata": {},
   "outputs": [
    {
     "data": {
      "text/html": [
       "<div>\n",
       "<style scoped>\n",
       "    .dataframe tbody tr th:only-of-type {\n",
       "        vertical-align: middle;\n",
       "    }\n",
       "\n",
       "    .dataframe tbody tr th {\n",
       "        vertical-align: top;\n",
       "    }\n",
       "\n",
       "    .dataframe thead th {\n",
       "        text-align: right;\n",
       "    }\n",
       "</style>\n",
       "<table border=\"1\" class=\"dataframe\">\n",
       "  <thead>\n",
       "    <tr style=\"text-align: right;\">\n",
       "      <th></th>\n",
       "      <th>age</th>\n",
       "      <th>sex</th>\n",
       "      <th>cp</th>\n",
       "      <th>trtbps</th>\n",
       "      <th>chol</th>\n",
       "      <th>fbs</th>\n",
       "      <th>restecg</th>\n",
       "      <th>thalachh</th>\n",
       "      <th>exng</th>\n",
       "      <th>oldpeak</th>\n",
       "      <th>slp</th>\n",
       "      <th>caa</th>\n",
       "      <th>thall</th>\n",
       "      <th>output</th>\n",
       "    </tr>\n",
       "  </thead>\n",
       "  <tbody>\n",
       "    <tr>\n",
       "      <th>0</th>\n",
       "      <td>63</td>\n",
       "      <td>1</td>\n",
       "      <td>3</td>\n",
       "      <td>145</td>\n",
       "      <td>233</td>\n",
       "      <td>1</td>\n",
       "      <td>0</td>\n",
       "      <td>150</td>\n",
       "      <td>0</td>\n",
       "      <td>2.3</td>\n",
       "      <td>0</td>\n",
       "      <td>0</td>\n",
       "      <td>1</td>\n",
       "      <td>1</td>\n",
       "    </tr>\n",
       "    <tr>\n",
       "      <th>1</th>\n",
       "      <td>37</td>\n",
       "      <td>1</td>\n",
       "      <td>2</td>\n",
       "      <td>130</td>\n",
       "      <td>250</td>\n",
       "      <td>0</td>\n",
       "      <td>1</td>\n",
       "      <td>187</td>\n",
       "      <td>0</td>\n",
       "      <td>3.5</td>\n",
       "      <td>0</td>\n",
       "      <td>0</td>\n",
       "      <td>2</td>\n",
       "      <td>1</td>\n",
       "    </tr>\n",
       "    <tr>\n",
       "      <th>2</th>\n",
       "      <td>41</td>\n",
       "      <td>0</td>\n",
       "      <td>1</td>\n",
       "      <td>130</td>\n",
       "      <td>204</td>\n",
       "      <td>0</td>\n",
       "      <td>0</td>\n",
       "      <td>172</td>\n",
       "      <td>0</td>\n",
       "      <td>1.4</td>\n",
       "      <td>2</td>\n",
       "      <td>0</td>\n",
       "      <td>2</td>\n",
       "      <td>1</td>\n",
       "    </tr>\n",
       "    <tr>\n",
       "      <th>3</th>\n",
       "      <td>56</td>\n",
       "      <td>1</td>\n",
       "      <td>1</td>\n",
       "      <td>120</td>\n",
       "      <td>236</td>\n",
       "      <td>0</td>\n",
       "      <td>1</td>\n",
       "      <td>178</td>\n",
       "      <td>0</td>\n",
       "      <td>0.8</td>\n",
       "      <td>2</td>\n",
       "      <td>0</td>\n",
       "      <td>2</td>\n",
       "      <td>1</td>\n",
       "    </tr>\n",
       "    <tr>\n",
       "      <th>4</th>\n",
       "      <td>57</td>\n",
       "      <td>0</td>\n",
       "      <td>0</td>\n",
       "      <td>120</td>\n",
       "      <td>354</td>\n",
       "      <td>0</td>\n",
       "      <td>1</td>\n",
       "      <td>163</td>\n",
       "      <td>1</td>\n",
       "      <td>0.6</td>\n",
       "      <td>2</td>\n",
       "      <td>0</td>\n",
       "      <td>2</td>\n",
       "      <td>1</td>\n",
       "    </tr>\n",
       "  </tbody>\n",
       "</table>\n",
       "</div>"
      ],
      "text/plain": [
       "   age  sex  cp  trtbps  chol  fbs  restecg  thalachh  exng  oldpeak  slp  \\\n",
       "0   63    1   3     145   233    1        0       150     0      2.3    0   \n",
       "1   37    1   2     130   250    0        1       187     0      3.5    0   \n",
       "2   41    0   1     130   204    0        0       172     0      1.4    2   \n",
       "3   56    1   1     120   236    0        1       178     0      0.8    2   \n",
       "4   57    0   0     120   354    0        1       163     1      0.6    2   \n",
       "\n",
       "   caa  thall  output  \n",
       "0    0      1       1  \n",
       "1    0      2       1  \n",
       "2    0      2       1  \n",
       "3    0      2       1  \n",
       "4    0      2       1  "
      ]
     },
     "execution_count": 56,
     "metadata": {},
     "output_type": "execute_result"
    }
   ],
   "source": [
    "df.head()"
   ]
  },
  {
   "cell_type": "code",
   "execution_count": 57,
   "id": "9a57d380-0700-47b9-92dd-533f09ed5f2c",
   "metadata": {},
   "outputs": [],
   "source": [
    "# data cleaning"
   ]
  },
  {
   "cell_type": "code",
   "execution_count": 58,
   "id": "5c65e036-b5ab-4131-934e-3b19af14fe81",
   "metadata": {},
   "outputs": [],
   "source": [
    "df.replace('?', np.nan, inplace=True)"
   ]
  },
  {
   "cell_type": "code",
   "execution_count": 59,
   "id": "e7e04fd2-6c66-4f20-8807-b33d2ed07c61",
   "metadata": {},
   "outputs": [],
   "source": [
    "df=df.dropna()"
   ]
  },
  {
   "cell_type": "code",
   "execution_count": 60,
   "id": "744fd05a-68e2-4939-b79f-da02424d161d",
   "metadata": {},
   "outputs": [],
   "source": [
    "df=df.apply(pd.to_numeric)"
   ]
  },
  {
   "cell_type": "code",
   "execution_count": 61,
   "id": "513622c3-be21-4fb6-9f4e-739131d65845",
   "metadata": {},
   "outputs": [],
   "source": [
    "#negative values remove"
   ]
  },
  {
   "cell_type": "code",
   "execution_count": 62,
   "id": "328dfb96-3f07-49aa-bd12-82a7e7f5f669",
   "metadata": {},
   "outputs": [],
   "source": [
    "columns_to_check = ['age', 'trtbps', 'chol', 'thalachh', 'oldpeak']"
   ]
  },
  {
   "cell_type": "code",
   "execution_count": 63,
   "id": "ad6c9bd2-aadb-47a4-80fa-63fe2d7aa3c3",
   "metadata": {},
   "outputs": [],
   "source": [
    "def remove_outliers_iqr(df, columns):\n",
    "    for col in columns:\n",
    "        Q1 = df[col].quantile(0.25)\n",
    "        Q3 = df[col].quantile(0.75)\n",
    "        IQR = Q3 - Q1\n",
    "        lower_bound = Q1 - 1.5 * IQR\n",
    "        upper_bound = Q3 + 1.5 * IQR\n",
    "        df = df[(df[col] >= lower_bound) & (df[col] <= upper_bound)]\n",
    "    return df\n",
    "\n"
   ]
  },
  {
   "cell_type": "code",
   "execution_count": 64,
   "id": "d4ecf480-8eda-4624-ade4-efcd270c3059",
   "metadata": {},
   "outputs": [],
   "source": [
    "df = remove_outliers_iqr(df, columns_to_check)"
   ]
  },
  {
   "cell_type": "code",
   "execution_count": 65,
   "id": "fbb0fed6-c234-4903-bca1-afe228f12534",
   "metadata": {},
   "outputs": [],
   "source": [
    "#data transform"
   ]
  },
  {
   "cell_type": "code",
   "execution_count": 66,
   "id": "2c1eaa04-e6e8-4a2b-85ca-e7f84e210dec",
   "metadata": {},
   "outputs": [],
   "source": [
    "X=df.drop('output',axis=1)"
   ]
  },
  {
   "cell_type": "code",
   "execution_count": 67,
   "id": "3893ccd6-ac2f-4bce-b0f0-c69fc8c7a894",
   "metadata": {},
   "outputs": [],
   "source": [
    "y=df['output']"
   ]
  },
  {
   "cell_type": "code",
   "execution_count": 68,
   "id": "0725f0cb-01c7-4d7c-85c4-82eb1af2a499",
   "metadata": {},
   "outputs": [],
   "source": [
    "scaler=StandardScaler()\n",
    "x_scaled=scaler.fit_transform(X)\n",
    "x_train,x_test,y_train,y_test=train_test_split(x_scaled,y,test_size=0.2,random_state=42)"
   ]
  },
  {
   "cell_type": "code",
   "execution_count": 69,
   "id": "51e4a255-bf17-43bd-aeb6-84588faad0ea",
   "metadata": {},
   "outputs": [],
   "source": [
    "#logistic regression"
   ]
  },
  {
   "cell_type": "code",
   "execution_count": 70,
   "id": "3fd17c9c-ae9b-4081-8a9f-915a86c764e7",
   "metadata": {},
   "outputs": [],
   "source": [
    "lr=LogisticRegression()\n",
    "lr.fit(x_train,y_train)\n",
    "lr_pred=lr.predict(x_test)\n",
    "lr_acc=accuracy_score(y_test,lr_pred)"
   ]
  },
  {
   "cell_type": "code",
   "execution_count": 71,
   "id": "bb169cd4-ff6a-4233-9e33-7c2c21e99eee",
   "metadata": {},
   "outputs": [
    {
     "name": "stdout",
     "output_type": "stream",
     "text": [
      "Logistic Regression Accuracy: 0.86\n"
     ]
    }
   ],
   "source": [
    "print(f\"Logistic Regression Accuracy: {lr_acc:.2f}\")"
   ]
  },
  {
   "cell_type": "code",
   "execution_count": 73,
   "id": "c61845c6-3b21-44b7-b371-49a533935cee",
   "metadata": {},
   "outputs": [],
   "source": [
    "knn=  KNeighborsClassifier(n_neighbors=5)\n",
    "knn.fit(x_train,y_train)\n",
    "knn_pred=knn.predict(x_test)\n",
    "knn_acc=accuracy_score(y_test,knn_pred)"
   ]
  },
  {
   "cell_type": "code",
   "execution_count": 74,
   "id": "b8da5642-8f4b-4fff-a43f-aa02fb19f99b",
   "metadata": {},
   "outputs": [
    {
     "name": "stdout",
     "output_type": "stream",
     "text": [
      "kNN Accuracy: 0.79\n"
     ]
    }
   ],
   "source": [
    "print(f\"kNN Accuracy: {knn_acc:.2f}\")"
   ]
  },
  {
   "cell_type": "code",
   "execution_count": 75,
   "id": "cf88e66a-5da8-4b63-a56d-005c5910f54a",
   "metadata": {},
   "outputs": [
    {
     "data": {
      "image/png": "[encoded data removed]",
      "text/plain": [
       "<Figure size 600x400 with 1 Axes>"
      ]
     },
     "metadata": {},
     "output_type": "display_data"
    }
   ],
   "source": [
    "# --- Accuracy Comparison Plot ---\n",
    "models = ['Logistic Regression', 'kNN']\n",
    "scores = [lr_acc, knn_acc]\n",
    "plt.figure(figsize=(6, 4))\n",
    "sns.barplot(x=models, y=scores)\n",
    "plt.ylim(0, 1)\n",
    "plt.ylabel('Accuracy')\n",
    "plt.title('Model Accuracy Comparison')\n",
    "plt.show()"
   ]
  },
  {
   "cell_type": "code",
   "execution_count": null,
   "id": "92c4a724-376d-4861-9492-29097538be0a",
   "metadata": {},
   "outputs": [],
   "source": [
    "# import pandas as pd\n",
    "# import numpy as np\n",
    "# from sklearn.model_selection import train_test_split\n",
    "# from sklearn.preprocessing import StandardScaler\n",
    "# from sklearn.linear_model import LogisticRegression\n",
    "# from sklearn.neighbors import KNeighborsClassifier\n",
    "# from sklearn.metrics import accuracy_score\n",
    "# import seaborn as sns\n",
    "# import matplotlib.pyplot as plt\n",
    "\n",
    "# # Load dataset\n",
    "# df = pd.read_csv('heart.csv')  # Replace with your file path if needed\n",
    "\n",
    "# # --- Data Cleaning ---\n",
    "# df.replace('?', np.nan, inplace=True)\n",
    "# df = df.dropna()\n",
    "# df = df.apply(pd.to_numeric)\n",
    "\n",
    "# # Rename columns for consistency (optional)\n",
    "# df.columns = ['age', 'sex', 'cp', 'trtbps', 'chol', 'fbs', 'restecg',\n",
    "#               'thalachh', 'exng', 'oldpeak', 'slp', 'caa', 'thall', 'output']\n",
    "\n",
    "# # Remove negative values from relevant columns\n",
    "# columns_to_check = ['age', 'trtbps', 'chol', 'thalachh', 'oldpeak']\n",
    "# for col in columns_to_check:\n",
    "#     df = df[df[col] >= 0]\n",
    "\n",
    "# # --- Outlier Removal using IQR ---\n",
    "# Q1 = df.quantile(0.25)\n",
    "# Q3 = df.quantile(0.75)\n",
    "# IQR = Q3 - Q1\n",
    "# df = df[~((df < (Q1 - 1.5 * IQR)) | (df > (Q3 + 1.5 * IQR))).any(axis=1)]\n",
    "\n",
    "# # --- Data Transformation ---\n",
    "# X = df.drop('output', axis=1)\n",
    "# y = df['output']\n",
    "# scaler = StandardScaler()\n",
    "# X_scaled = scaler.fit_transform(X)\n",
    "# X_train, X_test, y_train, y_test = train_test_split(X_scaled, y, test_size=0.2, random_state=42)\n",
    "\n",
    "# # --- Logistic Regression ---\n",
    "# lr = LogisticRegression()\n",
    "# lr.fit(X_train, y_train)\n",
    "# lr_preds = lr.predict(X_test)\n",
    "# lr_acc = accuracy_score(y_test, lr_preds)\n",
    "\n",
    "# # --- k-Nearest Neighbors ---\n",
    "# knn = KNeighborsClassifier(n_neighbors=5)\n",
    "# knn.fit(X_train, y_train)\n",
    "# knn_preds = knn.predict(X_test)\n",
    "# knn_acc = accuracy_score(y_test, knn_preds)\n",
    "\n",
    "# # --- Results ---\n",
    "# print(f\"Logistic Regression Accuracy: {lr_acc:.2f}\")\n",
    "# print(f\"kNN Accuracy: {knn_acc:.2f}\")\n",
    "\n",
    "# # --- Accuracy Comparison Plot ---\n",
    "# models = ['Logistic Regression', 'kNN']\n",
    "# scores = [lr_acc, knn_acc]\n",
    "# plt.figure(figsize=(6, 4))\n",
    "# sns.barplot(x=models, y=scores)\n",
    "# plt.ylim(0, 1)\n",
    "# plt.ylabel('Accuracy')\n",
    "# plt.title('Model Accuracy Comparison')\n",
    "# plt.show()\n"
   ]
  }
 ],
 "metadata": {
  "kernelspec": {
   "display_name": "Python 3 (ipykernel)",
   "language": "python",
   "name": "python3"
  },
  "language_info": {
   "codemirror_mode": {
    "name": "ipython",
    "version": 3
   },
   "file_extension": ".py",
   "mimetype": "text/x-python",
   "name": "python",
   "nbconvert_exporter": "python",
   "pygments_lexer": "ipython3",
   "version": "3.10.4"
  }
 },
 "nbformat": 4,
 "nbformat_minor": 5
}
