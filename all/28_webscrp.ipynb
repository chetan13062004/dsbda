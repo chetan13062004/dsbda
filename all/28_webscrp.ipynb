{
 "cells": [
  {
   "cell_type": "code",
   "execution_count": 16,
   "id": "06fde4b3-abb6-4339-83f7-0dd1897819a5",
   "metadata": {},
   "outputs": [
    {
     "name": "stdout",
     "output_type": "stream",
     "text": [
      "[<div class=\"KzDlHZ\">LAVA Yuva 4 (Glossy Black, 64 GB)</div>, <div class=\"KzDlHZ\">LAVA Yuva Star (Glossy Black, 64 GB)</div>, <div class=\"KzDlHZ\">vivo T4x 5G (Pronto Purple, 128 GB)</div>, <div class=\"KzDlHZ\">vivo T4x 5G (Pronto Purple, 128 GB)</div>, <div class=\"KzDlHZ\">LAVA Blaze 2 5G with Dual Sim|50MP Rear Camera|5000 mAh Battery|Expandable Upto 1 TB (Glass Black, 128...</div>, <div class=\"KzDlHZ\">I Kall K333 Plus Touch and Type (Sky Blue, 16 GB)</div>, <div class=\"KzDlHZ\">vivo T4x 5G (Marine Blue, 128 GB)</div>, <div class=\"KzDlHZ\">realme P3x 5G (Midnight Blue, 128 GB)</div>, <div class=\"KzDlHZ\">realme P3x 5G (Midnight Blue, 128 GB)</div>, <div class=\"KzDlHZ\">Motorola g64 5G (Mint Green, 128 GB)</div>, <div class=\"KzDlHZ\">REDMI 13 5G (Orchid Pink, 128 GB)</div>, <div class=\"KzDlHZ\">vivo T4x 5G (Marine Blue, 128 GB)</div>, <div class=\"KzDlHZ\">realme 14x 5G (Jewel Red, 128 GB)</div>, <div class=\"KzDlHZ\">POCO M6 Plus 5G (Misty Lavender, 128 GB)</div>, <div class=\"KzDlHZ\">realme P1 5G (Feather Blue, 128 GB)</div>, <div class=\"KzDlHZ\">realme 14x 5G (Crystal Black, 128 GB)</div>, <div class=\"KzDlHZ\">REDMI 13 5G (Orchid Pink, 128 GB)</div>, <div class=\"KzDlHZ\">REDMI 13 5G (Hawaiian Blue, 128 GB)</div>, <div class=\"KzDlHZ\">realme P1 5G (Phoenix Red, 128 GB)</div>, <div class=\"KzDlHZ\">Motorola g64 5G (Ice Lilac, 128 GB)</div>, <div class=\"KzDlHZ\">POCO M7 5G (Ocean Blue, 128 GB)</div>, <div class=\"KzDlHZ\">REDMI 13 5G (Black Diamond, 128 GB)</div>, <div class=\"KzDlHZ\">Motorola g64 5G (Pearl Blue, 128 GB)</div>, <div class=\"KzDlHZ\">REDMI 13 5G (Hawaiian Blue, 128 GB)</div>]\n"
     ]
    }
   ],
   "source": [
    "from selenium import webdriver\n",
    "from bs4 import BeautifulSoup\n",
    "import pandas as pd\n",
    "import time\n",
    "\n",
    "driver = webdriver.Chrome()  # make sure chromedriver is installed and in PATH\n",
    "driver.get(\"https://www.flipkart.com/search?q=mobiles+under+15000&otracker=search&otracker1=search&marketplace=FLIPKART&as-show=on&as=off&page=1\")\n",
    "\n",
    "time.sleep(3)  # wait for JS to load\n",
    "\n",
    "soup = BeautifulSoup(driver.page_source, 'html.parser')\n",
    "names = soup.find_all(\"div\", class_=\"KzDlHZ\")\n",
    "print(names)\n",
    "\n",
    "driver.quit()\n"
   ]
  },
  {
   "cell_type": "code",
   "execution_count": 17,
   "id": "d0d37d3c-df5f-4ae8-b322-d709bd964f08",
   "metadata": {},
   "outputs": [],
   "source": [
    "product_name=[]\n",
    "price=[]\n",
    "review=[]"
   ]
  },
  {
   "cell_type": "code",
   "execution_count": 18,
   "id": "1fbf9ae6-70e4-491b-9ee5-626bb4e293cd",
   "metadata": {},
   "outputs": [],
   "source": [
    "for i in names:\n",
    "    name = i.text\n",
    "    product_name.append(name)"
   ]
  },
  {
   "cell_type": "code",
   "execution_count": 19,
   "id": "70ff261a-1f44-4f79-a65d-e619d650f749",
   "metadata": {},
   "outputs": [
    {
     "name": "stdout",
     "output_type": "stream",
     "text": [
      "['LAVA Yuva 4 (Glossy Black, 64 GB)', 'LAVA Yuva Star (Glossy Black, 64 GB)', 'vivo T4x 5G (Pronto Purple, 128 GB)', 'vivo T4x 5G (Pronto Purple, 128 GB)', 'LAVA Blaze 2 5G with Dual Sim|50MP Rear Camera|5000 mAh Battery|Expandable Upto 1 TB (Glass Black, 128...', 'I Kall K333 Plus Touch and Type (Sky Blue, 16 GB)', 'vivo T4x 5G (Marine Blue, 128 GB)', 'realme P3x 5G (Midnight Blue, 128 GB)', 'realme P3x 5G (Midnight Blue, 128 GB)', 'Motorola g64 5G (Mint Green, 128 GB)', 'REDMI 13 5G (Orchid Pink, 128 GB)', 'vivo T4x 5G (Marine Blue, 128 GB)', 'realme 14x 5G (Jewel Red, 128 GB)', 'POCO M6 Plus 5G (Misty Lavender, 128 GB)', 'realme P1 5G (Feather Blue, 128 GB)', 'realme 14x 5G (Crystal Black, 128 GB)', 'REDMI 13 5G (Orchid Pink, 128 GB)', 'REDMI 13 5G (Hawaiian Blue, 128 GB)', 'realme P1 5G (Phoenix Red, 128 GB)', 'Motorola g64 5G (Ice Lilac, 128 GB)', 'POCO M7 5G (Ocean Blue, 128 GB)', 'REDMI 13 5G (Black Diamond, 128 GB)', 'Motorola g64 5G (Pearl Blue, 128 GB)', 'REDMI 13 5G (Hawaiian Blue, 128 GB)']\n"
     ]
    }
   ],
   "source": [
    "print(product_name)"
   ]
  },
  {
   "cell_type": "code",
   "execution_count": 20,
   "id": "658cadd2-9b7e-42f3-b66f-0e9e3d42627c",
   "metadata": {},
   "outputs": [],
   "source": [
    "prices = soup.find_all(\"div\", class_=\"Nx9bqj _4b5DiR\")"
   ]
  },
  {
   "cell_type": "code",
   "execution_count": null,
   "id": "4bc4cc36-1a76-415f-bcd6-e5de2de75e51",
   "metadata": {},
   "outputs": [],
   "source": []
  },
  {
   "cell_type": "code",
   "execution_count": 21,
   "id": "c8f34c22-fb5e-4ee3-aa40-7303a6650234",
   "metadata": {},
   "outputs": [],
   "source": [
    "for i in prices:\n",
    "    name = i.text\n",
    "    price.append(name)"
   ]
  },
  {
   "cell_type": "code",
   "execution_count": null,
   "id": "3872d040-3ac3-4c5a-9967-4eea6027a0e6",
   "metadata": {},
   "outputs": [],
   "source": []
  },
  {
   "cell_type": "code",
   "execution_count": 22,
   "id": "64022b71-52be-4de1-a525-787cd3f51603",
   "metadata": {},
   "outputs": [
    {
     "name": "stdout",
     "output_type": "stream",
     "text": [
      "24\n",
      "24\n"
     ]
    }
   ],
   "source": [
    "print(len(product_name))\n",
    "print(len(prices))"
   ]
  },
  {
   "cell_type": "code",
   "execution_count": 23,
   "id": "18fd7fb8-a28d-4624-b766-395ea49bcb78",
   "metadata": {},
   "outputs": [],
   "source": [
    "df=pd.DataFrame({\"Product Name\":product_name,\"Prices\":prices})"
   ]
  },
  {
   "cell_type": "code",
   "execution_count": 24,
   "id": "8a7644d2-8f2e-4b28-8a83-ff6d0774e425",
   "metadata": {},
   "outputs": [
    {
     "data": {
      "text/html": [
       "<div>\n",
       "<style scoped>\n",
       "    .dataframe tbody tr th:only-of-type {\n",
       "        vertical-align: middle;\n",
       "    }\n",
       "\n",
       "    .dataframe tbody tr th {\n",
       "        vertical-align: top;\n",
       "    }\n",
       "\n",
       "    .dataframe thead th {\n",
       "        text-align: right;\n",
       "    }\n",
       "</style>\n",
       "<table border=\"1\" class=\"dataframe\">\n",
       "  <thead>\n",
       "    <tr style=\"text-align: right;\">\n",
       "      <th></th>\n",
       "      <th>Product Name</th>\n",
       "      <th>Prices</th>\n",
       "    </tr>\n",
       "  </thead>\n",
       "  <tbody>\n",
       "    <tr>\n",
       "      <th>0</th>\n",
       "      <td>LAVA Yuva 4 (Glossy Black, 64 GB)</td>\n",
       "      <td>[₹6,999]</td>\n",
       "    </tr>\n",
       "    <tr>\n",
       "      <th>1</th>\n",
       "      <td>LAVA Yuva Star (Glossy Black, 64 GB)</td>\n",
       "      <td>[₹6,499]</td>\n",
       "    </tr>\n",
       "    <tr>\n",
       "      <th>2</th>\n",
       "      <td>vivo T4x 5G (Pronto Purple, 128 GB)</td>\n",
       "      <td>[₹14,999]</td>\n",
       "    </tr>\n",
       "    <tr>\n",
       "      <th>3</th>\n",
       "      <td>vivo T4x 5G (Pronto Purple, 128 GB)</td>\n",
       "      <td>[₹13,999]</td>\n",
       "    </tr>\n",
       "    <tr>\n",
       "      <th>4</th>\n",
       "      <td>LAVA Blaze 2 5G with Dual Sim|50MP Rear Camera...</td>\n",
       "      <td>[₹9,399]</td>\n",
       "    </tr>\n",
       "  </tbody>\n",
       "</table>\n",
       "</div>"
      ],
      "text/plain": [
       "                                        Product Name     Prices\n",
       "0                  LAVA Yuva 4 (Glossy Black, 64 GB)   [₹6,999]\n",
       "1               LAVA Yuva Star (Glossy Black, 64 GB)   [₹6,499]\n",
       "2                vivo T4x 5G (Pronto Purple, 128 GB)  [₹14,999]\n",
       "3                vivo T4x 5G (Pronto Purple, 128 GB)  [₹13,999]\n",
       "4  LAVA Blaze 2 5G with Dual Sim|50MP Rear Camera...   [₹9,399]"
      ]
     },
     "execution_count": 24,
     "metadata": {},
     "output_type": "execute_result"
    }
   ],
   "source": [
    "df.head()"
   ]
  },
  {
   "cell_type": "code",
   "execution_count": 25,
   "id": "e3a58535-ce50-48d0-8708-2234811a3e5c",
   "metadata": {},
   "outputs": [],
   "source": [
    "df.to_csv(\"flipkart.csv\")"
   ]
  },
  {
   "cell_type": "code",
   "execution_count": null,
   "id": "1ba17d19-d7f3-435e-bed6-7ecc1f532db2",
   "metadata": {},
   "outputs": [],
   "source": []
  },
  {
   "cell_type": "code",
   "execution_count": null,
   "id": "17a1a5f7-20d5-485e-b1a1-823710e326bd",
   "metadata": {},
   "outputs": [],
   "source": []
  }
 ],
 "metadata": {
  "kernelspec": {
   "display_name": "Python 3 (ipykernel)",
   "language": "python",
   "name": "python3"
  },
  "language_info": {
   "codemirror_mode": {
    "name": "ipython",
    "version": 3
   },
   "file_extension": ".py",
   "mimetype": "text/x-python",
   "name": "python",
   "nbconvert_exporter": "python",
   "pygments_lexer": "ipython3",
   "version": "3.10.4"
  }
 },
 "nbformat": 4,
 "nbformat_minor": 5
}
