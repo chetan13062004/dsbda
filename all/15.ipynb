{
 "cells": [
  {
   "cell_type": "code",
   "execution_count": 1,
   "id": "468f319d-f28d-4e76-86a7-f1d807e36d05",
   "metadata": {},
   "outputs": [],
   "source": [
    "import pandas as pd"
   ]
  },
  {
   "cell_type": "code",
   "execution_count": 2,
   "id": "8c17d7ef-991c-4a24-84db-17eb5918c4a5",
   "metadata": {},
   "outputs": [],
   "source": [
    "df=pd.read_csv(\"E:/PICT 3rd/subject material/DSBDA Prep/Datasets/breast.csv\")"
   ]
  },
  {
   "cell_type": "code",
   "execution_count": 5,
   "id": "95fbedb7-44ce-4edf-a902-243d8ee98068",
   "metadata": {},
   "outputs": [
    {
     "name": "stdout",
     "output_type": "stream",
     "text": [
      "<class 'pandas.core.frame.DataFrame'>\n",
      "RangeIndex: 569 entries, 0 to 568\n",
      "Data columns (total 33 columns):\n",
      " #   Column                   Non-Null Count  Dtype  \n",
      "---  ------                   --------------  -----  \n",
      " 0   id                       569 non-null    int64  \n",
      " 1   diagnosis                569 non-null    object \n",
      " 2   radius_mean              569 non-null    float64\n",
      " 3   texture_mean             569 non-null    float64\n",
      " 4   perimeter_mean           569 non-null    float64\n",
      " 5   area_mean                569 non-null    float64\n",
      " 6   smoothness_mean          569 non-null    float64\n",
      " 7   compactness_mean         569 non-null    float64\n",
      " 8   concavity_mean           569 non-null    float64\n",
      " 9   concave points_mean      569 non-null    float64\n",
      " 10  symmetry_mean            569 non-null    float64\n",
      " 11  fractal_dimension_mean   569 non-null    float64\n",
      " 12  radius_se                569 non-null    float64\n",
      " 13  texture_se               569 non-null    float64\n",
      " 14  perimeter_se             569 non-null    float64\n",
      " 15  area_se                  569 non-null    float64\n",
      " 16  smoothness_se            569 non-null    float64\n",
      " 17  compactness_se           569 non-null    float64\n",
      " 18  concavity_se             569 non-null    float64\n",
      " 19  concave points_se        569 non-null    float64\n",
      " 20  symmetry_se              569 non-null    float64\n",
      " 21  fractal_dimension_se     569 non-null    float64\n",
      " 22  radius_worst             569 non-null    float64\n",
      " 23  texture_worst            569 non-null    float64\n",
      " 24  perimeter_worst          569 non-null    float64\n",
      " 25  area_worst               569 non-null    float64\n",
      " 26  smoothness_worst         569 non-null    float64\n",
      " 27  compactness_worst        569 non-null    float64\n",
      " 28  concavity_worst          569 non-null    float64\n",
      " 29  concave points_worst     569 non-null    float64\n",
      " 30  symmetry_worst           569 non-null    float64\n",
      " 31  fractal_dimension_worst  569 non-null    float64\n",
      " 32  Unnamed: 32              0 non-null      float64\n",
      "dtypes: float64(31), int64(1), object(1)\n",
      "memory usage: 146.8+ KB\n"
     ]
    }
   ],
   "source": [
    "df.info()"
   ]
  },
  {
   "cell_type": "code",
   "execution_count": 6,
   "id": "f7218f9a-09ca-45f2-ab6b-5d42f8a5a4fc",
   "metadata": {},
   "outputs": [],
   "source": [
    "if 'Unnamed: 32' in df.columns:\n",
    "        df.drop(columns=['Unnamed: 32'],inplace=True)"
   ]
  },
  {
   "cell_type": "code",
   "execution_count": 23,
   "id": "0b5bced8-20a8-46a8-88fc-6af93ac7f59b",
   "metadata": {},
   "outputs": [
    {
     "data": {
      "text/html": [
       "<div>\n",
       "<style scoped>\n",
       "    .dataframe tbody tr th:only-of-type {\n",
       "        vertical-align: middle;\n",
       "    }\n",
       "\n",
       "    .dataframe tbody tr th {\n",
       "        vertical-align: top;\n",
       "    }\n",
       "\n",
       "    .dataframe thead th {\n",
       "        text-align: right;\n",
       "    }\n",
       "</style>\n",
       "<table border=\"1\" class=\"dataframe\">\n",
       "  <thead>\n",
       "    <tr style=\"text-align: right;\">\n",
       "      <th></th>\n",
       "      <th>id</th>\n",
       "      <th>diagnosis</th>\n",
       "      <th>radius_mean</th>\n",
       "      <th>texture_mean</th>\n",
       "      <th>perimeter_mean</th>\n",
       "      <th>area_mean</th>\n",
       "      <th>smoothness_mean</th>\n",
       "      <th>compactness_mean</th>\n",
       "      <th>concavity_mean</th>\n",
       "      <th>concave points_mean</th>\n",
       "      <th>...</th>\n",
       "      <th>radius_worst</th>\n",
       "      <th>texture_worst</th>\n",
       "      <th>perimeter_worst</th>\n",
       "      <th>area_worst</th>\n",
       "      <th>smoothness_worst</th>\n",
       "      <th>compactness_worst</th>\n",
       "      <th>concavity_worst</th>\n",
       "      <th>concave points_worst</th>\n",
       "      <th>symmetry_worst</th>\n",
       "      <th>fractal_dimension_worst</th>\n",
       "    </tr>\n",
       "  </thead>\n",
       "  <tbody>\n",
       "    <tr>\n",
       "      <th>560</th>\n",
       "      <td>925292</td>\n",
       "      <td>B</td>\n",
       "      <td>0.065133</td>\n",
       "      <td>2.085934</td>\n",
       "      <td>0.074675</td>\n",
       "      <td>-0.071911</td>\n",
       "      <td>0.325132</td>\n",
       "      <td>0.428974</td>\n",
       "      <td>-0.479641</td>\n",
       "      <td>-0.006851</td>\n",
       "      <td>...</td>\n",
       "      <td>-0.126948</td>\n",
       "      <td>1.416353</td>\n",
       "      <td>-0.128097</td>\n",
       "      <td>-0.246735</td>\n",
       "      <td>-0.320285</td>\n",
       "      <td>-0.044225</td>\n",
       "      <td>-0.635564</td>\n",
       "      <td>-0.030095</td>\n",
       "      <td>-1.187265</td>\n",
       "      <td>0.109792</td>\n",
       "    </tr>\n",
       "    <tr>\n",
       "      <th>563</th>\n",
       "      <td>926125</td>\n",
       "      <td>M</td>\n",
       "      <td>2.340796</td>\n",
       "      <td>1.567331</td>\n",
       "      <td>2.575479</td>\n",
       "      <td>2.554814</td>\n",
       "      <td>1.153700</td>\n",
       "      <td>3.130595</td>\n",
       "      <td>3.942714</td>\n",
       "      <td>3.213055</td>\n",
       "      <td>...</td>\n",
       "      <td>2.064635</td>\n",
       "      <td>0.754033</td>\n",
       "      <td>2.678821</td>\n",
       "      <td>2.231310</td>\n",
       "      <td>0.466548</td>\n",
       "      <td>1.482611</td>\n",
       "      <td>2.443658</td>\n",
       "      <td>2.548108</td>\n",
       "      <td>0.178364</td>\n",
       "      <td>1.188650</td>\n",
       "    </tr>\n",
       "    <tr>\n",
       "      <th>564</th>\n",
       "      <td>926424</td>\n",
       "      <td>M</td>\n",
       "      <td>2.552793</td>\n",
       "      <td>0.887609</td>\n",
       "      <td>2.527032</td>\n",
       "      <td>3.019223</td>\n",
       "      <td>1.239603</td>\n",
       "      <td>0.509293</td>\n",
       "      <td>2.751120</td>\n",
       "      <td>2.950797</td>\n",
       "      <td>...</td>\n",
       "      <td>2.347420</td>\n",
       "      <td>0.223825</td>\n",
       "      <td>2.216337</td>\n",
       "      <td>2.694705</td>\n",
       "      <td>0.480767</td>\n",
       "      <td>-0.164179</td>\n",
       "      <td>0.988429</td>\n",
       "      <td>1.985528</td>\n",
       "      <td>-1.569399</td>\n",
       "      <td>-0.728547</td>\n",
       "    </tr>\n",
       "    <tr>\n",
       "      <th>565</th>\n",
       "      <td>926682</td>\n",
       "      <td>M</td>\n",
       "      <td>2.079111</td>\n",
       "      <td>2.362857</td>\n",
       "      <td>2.003811</td>\n",
       "      <td>2.252245</td>\n",
       "      <td>0.208773</td>\n",
       "      <td>0.205056</td>\n",
       "      <td>1.131524</td>\n",
       "      <td>1.686099</td>\n",
       "      <td>...</td>\n",
       "      <td>1.918367</td>\n",
       "      <td>2.311189</td>\n",
       "      <td>1.821448</td>\n",
       "      <td>2.035259</td>\n",
       "      <td>-0.675781</td>\n",
       "      <td>-0.315910</td>\n",
       "      <td>0.467537</td>\n",
       "      <td>0.970814</td>\n",
       "      <td>-0.539647</td>\n",
       "      <td>-1.060824</td>\n",
       "    </tr>\n",
       "    <tr>\n",
       "      <th>566</th>\n",
       "      <td>926954</td>\n",
       "      <td>M</td>\n",
       "      <td>0.909811</td>\n",
       "      <td>2.320060</td>\n",
       "      <td>0.894388</td>\n",
       "      <td>0.834742</td>\n",
       "      <td>-0.825961</td>\n",
       "      <td>0.178283</td>\n",
       "      <td>0.296760</td>\n",
       "      <td>0.301071</td>\n",
       "      <td>...</td>\n",
       "      <td>0.770163</td>\n",
       "      <td>1.583694</td>\n",
       "      <td>0.814657</td>\n",
       "      <td>0.682949</td>\n",
       "      <td>-0.803760</td>\n",
       "      <td>0.615127</td>\n",
       "      <td>0.577321</td>\n",
       "      <td>0.608416</td>\n",
       "      <td>-1.251624</td>\n",
       "      <td>-0.238473</td>\n",
       "    </tr>\n",
       "  </tbody>\n",
       "</table>\n",
       "<p>5 rows × 32 columns</p>\n",
       "</div>"
      ],
      "text/plain": [
       "         id diagnosis  radius_mean  texture_mean  perimeter_mean  area_mean  \\\n",
       "560  925292         B     0.065133      2.085934        0.074675  -0.071911   \n",
       "563  926125         M     2.340796      1.567331        2.575479   2.554814   \n",
       "564  926424         M     2.552793      0.887609        2.527032   3.019223   \n",
       "565  926682         M     2.079111      2.362857        2.003811   2.252245   \n",
       "566  926954         M     0.909811      2.320060        0.894388   0.834742   \n",
       "\n",
       "     smoothness_mean  compactness_mean  concavity_mean  concave points_mean  \\\n",
       "560         0.325132          0.428974       -0.479641            -0.006851   \n",
       "563         1.153700          3.130595        3.942714             3.213055   \n",
       "564         1.239603          0.509293        2.751120             2.950797   \n",
       "565         0.208773          0.205056        1.131524             1.686099   \n",
       "566        -0.825961          0.178283        0.296760             0.301071   \n",
       "\n",
       "     ...  radius_worst  texture_worst  perimeter_worst  area_worst  \\\n",
       "560  ...     -0.126948       1.416353        -0.128097   -0.246735   \n",
       "563  ...      2.064635       0.754033         2.678821    2.231310   \n",
       "564  ...      2.347420       0.223825         2.216337    2.694705   \n",
       "565  ...      1.918367       2.311189         1.821448    2.035259   \n",
       "566  ...      0.770163       1.583694         0.814657    0.682949   \n",
       "\n",
       "     smoothness_worst  compactness_worst  concavity_worst  \\\n",
       "560         -0.320285          -0.044225        -0.635564   \n",
       "563          0.466548           1.482611         2.443658   \n",
       "564          0.480767          -0.164179         0.988429   \n",
       "565         -0.675781          -0.315910         0.467537   \n",
       "566         -0.803760           0.615127         0.577321   \n",
       "\n",
       "     concave points_worst  symmetry_worst  fractal_dimension_worst  \n",
       "560             -0.030095       -1.187265                 0.109792  \n",
       "563              2.548108        0.178364                 1.188650  \n",
       "564              1.985528       -1.569399                -0.728547  \n",
       "565              0.970814       -0.539647                -1.060824  \n",
       "566              0.608416       -1.251624                -0.238473  \n",
       "\n",
       "[5 rows x 32 columns]"
      ]
     },
     "execution_count": 23,
     "metadata": {},
     "output_type": "execute_result"
    }
   ],
   "source": [
    "df.tail()"
   ]
  },
  {
   "cell_type": "code",
   "execution_count": 8,
   "id": "d4576968-ea64-4a87-bbfb-5cb543b60281",
   "metadata": {},
   "outputs": [],
   "source": [
    "df.replace('?',pd.NA,inplace=True)\n",
    "df.dropna(inplace=True)"
   ]
  },
  {
   "cell_type": "code",
   "execution_count": 11,
   "id": "864d188e-c484-49f6-a7a8-c37db0f0d194",
   "metadata": {},
   "outputs": [],
   "source": [
    "numerical_cols=df.select_dtypes(include=['float64','int64']).columns\n",
    "df=df[(df[numerical_cols]>=0).all(axis=1)]"
   ]
  },
  {
   "cell_type": "code",
   "execution_count": 13,
   "id": "e871c36e-544f-46cf-9825-39daec0a97b7",
   "metadata": {},
   "outputs": [],
   "source": [
    "from scipy import stats\n",
    "import numpy as np"
   ]
  },
  {
   "cell_type": "code",
   "execution_count": 16,
   "id": "76a862f0-3bcd-4521-ae58-4648c5b561fa",
   "metadata": {},
   "outputs": [],
   "source": [
    "z_scores=stats.zscore(df.select_dtypes(include=['float64','int64']))\n",
    "df=df[(np.abs(z_scores)<3).all(axis=1)]"
   ]
  },
  {
   "cell_type": "code",
   "execution_count": 17,
   "id": "d3f8f3f2-9836-4878-a2b2-ae8b6b7b4ddc",
   "metadata": {},
   "outputs": [],
   "source": [
    "from sklearn.preprocessing import StandardScaler\n"
   ]
  },
  {
   "cell_type": "code",
   "execution_count": 18,
   "id": "243d9394-7ece-4cc9-8997-62a478d91bba",
   "metadata": {},
   "outputs": [],
   "source": [
    "scales_cols=['radius_mean','texture_mean','perimeter_mean','area_mean','smoothness_mean','compactness_mean','concavity_mean','concave points_mean','radius_worst','texture_worst','perimeter_worst','area_worst','smoothness_worst','compactness_worst','concavity_worst','concave points_worst','symmetry_worst','fractal_dimension_worst']\n",
    "scaler=StandardScaler()\n",
    "df[scales_cols]=scaler.fit_transform(df[scales_cols])"
   ]
  },
  {
   "cell_type": "code",
   "execution_count": 21,
   "id": "600499a1-de43-4b7f-a6a6-b8d7b95e993d",
   "metadata": {},
   "outputs": [],
   "source": [
    "from sklearn.model_selection import train_test_split\n",
    "from sklearn.linear_model import LogisticRegression\n",
    "from sklearn.naive_bayes import GaussianNB\n",
    "from sklearn.metrics import accuracy_score"
   ]
  },
  {
   "cell_type": "code",
   "execution_count": 24,
   "id": "8c73a2b9-c41d-4c8b-8fa1-5681b8c0db02",
   "metadata": {},
   "outputs": [],
   "source": [
    "x=df.drop(columns=['id','diagnosis'])\n",
    "y=df['diagnosis'].map({'M':1,'B':0})"
   ]
  },
  {
   "cell_type": "code",
   "execution_count": 25,
   "id": "6363952b-9f2e-4835-85fe-8fc79ddd9369",
   "metadata": {},
   "outputs": [],
   "source": [
    "x_train,x_test,y_train,y_test=train_test_split(x,y,test_size=0.2,random_state=42)"
   ]
  },
  {
   "cell_type": "code",
   "execution_count": 27,
   "id": "cfacc276-5c9e-414f-8b09-3ba6432493b5",
   "metadata": {},
   "outputs": [],
   "source": [
    "log_model=LogisticRegression()\n",
    "log_model.fit(x_train,y_train)\n",
    "log_pred=log_model.predict(x_test)\n",
    "log_acc=accuracy_score(y_test,log_pred)"
   ]
  },
  {
   "cell_type": "code",
   "execution_count": 28,
   "id": "5f87fa07-f3be-4cc9-9e16-e5868fa038e6",
   "metadata": {},
   "outputs": [
    {
     "data": {
      "text/plain": [
       "0.9897959183673469"
      ]
     },
     "execution_count": 28,
     "metadata": {},
     "output_type": "execute_result"
    }
   ],
   "source": [
    "log_acc"
   ]
  },
  {
   "cell_type": "code",
   "execution_count": 29,
   "id": "4eb87df5-83db-45e8-955d-ba03a9aa4a90",
   "metadata": {},
   "outputs": [],
   "source": [
    "nb_model=GaussianNB()\n",
    "nb_model.fit(x_train,y_train)\n",
    "nb_pred=nb_model.predict(x_test)\n",
    "nb_acc=accuracy_score(y_test,nb_pred)"
   ]
  },
  {
   "cell_type": "code",
   "execution_count": 30,
   "id": "ad12571a-40e9-471f-9f20-d9a652d78500",
   "metadata": {},
   "outputs": [
    {
     "data": {
      "text/plain": [
       "0.9489795918367347"
      ]
     },
     "execution_count": 30,
     "metadata": {},
     "output_type": "execute_result"
    }
   ],
   "source": [
    "nb_acc"
   ]
  },
  {
   "cell_type": "code",
   "execution_count": null,
   "id": "77832cb7-0bdd-4302-90d2-ba3d738ea1a8",
   "metadata": {},
   "outputs": [],
   "source": []
  }
 ],
 "metadata": {
  "kernelspec": {
   "display_name": "Python 3 (ipykernel)",
   "language": "python",
   "name": "python3"
  },
  "language_info": {
   "codemirror_mode": {
    "name": "ipython",
    "version": 3
   },
   "file_extension": ".py",
   "mimetype": "text/x-python",
   "name": "python",
   "nbconvert_exporter": "python",
   "pygments_lexer": "ipython3",
   "version": "3.10.4"
  }
 },
 "nbformat": 4,
 "nbformat_minor": 5
}
