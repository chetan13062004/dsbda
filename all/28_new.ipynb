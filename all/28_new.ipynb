{
 "cells": [
  {
   "cell_type": "code",
   "execution_count": null,
   "id": "5ef49f6b-1de7-4a56-8565-2b2e5141f515",
   "metadata": {},
   "outputs": [],
   "source": [
    "from selenium import webdriver\n",
    "import pandas as pd\n",
    "from bs4 import BeautifulSoup\n",
    "import time"
   ]
  },
  {
   "cell_type": "code",
   "execution_count": null,
   "id": "06a8337a-5b1a-4339-a255-b8ae63209221",
   "metadata": {},
   "outputs": [],
   "source": [
    "driver=webdriver.Chrome()"
   ]
  },
  {
   "cell_type": "code",
   "execution_count": null,
   "id": "b9937101-8087-4993-a10d-4fcbe0f37a75",
   "metadata": {},
   "outputs": [],
   "source": [
    "driver.get(\"https://www.flipkart.com/i-kall-k999-new/p/itm9287f39e19dea?pid=MOBGZ4GGEUF5P9UF&lid=LSTMOBGZ4GGEUF5P9UFMFH5TO&marketplace=FLIPKART&q=mobiles+under+15000&store=tyy%2F4io&srno=s_1_1&otracker=search&otracker1=search&fm=Search&iid=en_FHRgXknoHAWNkXEuOxfuCbpJlzKPYi0hZCID2_hjuKeDTfLhlQUL2EaUX64nxOcPkFxDEqSpsQ92ofo6Aiwn2w%3D%3D&ppt=sp&ppn=sp&qH=eb56fbd40eac45e9\")"
   ]
  },
  {
   "cell_type": "code",
   "execution_count": null,
   "id": "b3935dc6-f664-404c-9c6c-8643ce04f710",
   "metadata": {},
   "outputs": [],
   "source": [
    "time.sleep(3)"
   ]
  },
  {
   "cell_type": "code",
   "execution_count": null,
   "id": "723bbe6f-fe78-4b81-9792-1f2d489a3e60",
   "metadata": {},
   "outputs": [],
   "source": [
    "soup=BeautifulSoup(driver.page_source,\"html.parser\")"
   ]
  },
  {
   "cell_type": "code",
   "execution_count": null,
   "id": "69384980-a2df-4676-90e9-46aafbeb0289",
   "metadata": {},
   "outputs": [],
   "source": [
    "box=soup.find_all(\"div\",class_=\"RcXBOT\")"
   ]
  },
  {
   "cell_type": "code",
   "execution_count": null,
   "id": "1bc8f0db-7502-4e5e-b6f6-5af763186aaa",
   "metadata": {},
   "outputs": [],
   "source": [
    "names=soup.find_all(\"p\",class_=\"_2NsDsF AwS1CA\")"
   ]
  },
  {
   "cell_type": "code",
   "execution_count": null,
   "id": "6fe911d2-5c3d-4d16-88a1-bd1c5079d565",
   "metadata": {},
   "outputs": [],
   "source": [
    "print(names)"
   ]
  },
  {
   "cell_type": "code",
   "execution_count": null,
   "id": "6e7afaa3-ea17-4468-b7d2-64f27cf85100",
   "metadata": {},
   "outputs": [],
   "source": [
    "cust_name=[]"
   ]
  },
  {
   "cell_type": "code",
   "execution_count": null,
   "id": "b174d81f-1a1a-4917-8627-02bd2805b286",
   "metadata": {},
   "outputs": [],
   "source": [
    "for i in names:\n",
    "    name=i.text\n",
    "    cust_name.append(name)"
   ]
  },
  {
   "cell_type": "code",
   "execution_count": null,
   "id": "9292e7d3-5d32-4bf6-b15d-6b31ee227410",
   "metadata": {},
   "outputs": [],
   "source": [
    "print(cust_name)"
   ]
  },
  {
   "cell_type": "code",
   "execution_count": null,
   "id": "eda99a60-68f3-4c51-a15e-bc1c6ddb3360",
   "metadata": {},
   "outputs": [],
   "source": [
    "rating=[]"
   ]
  },
  {
   "cell_type": "code",
   "execution_count": null,
   "id": "bdd6f78d-225d-47cf-b65f-291424a46154",
   "metadata": {},
   "outputs": [],
   "source": [
    "ratings=soup.find_all(\"div\",class_=\"XQDdHH Ga3i8K\")"
   ]
  },
  {
   "cell_type": "code",
   "execution_count": null,
   "id": "10b4d653-75f5-42ff-8cfa-0234561c97ce",
   "metadata": {},
   "outputs": [],
   "source": [
    "for i in ratings:\n",
    "    rate=i.text\n",
    "    rating.append(rate)"
   ]
  },
  {
   "cell_type": "code",
   "execution_count": null,
   "id": "67e7432a-aed7-45ac-9a2b-87ed6b71687d",
   "metadata": {},
   "outputs": [],
   "source": [
    "rating"
   ]
  },
  {
   "cell_type": "code",
   "execution_count": null,
   "id": "178729eb-cc0d-4534-9e8a-582c3c706f70",
   "metadata": {},
   "outputs": [],
   "source": [
    "comments=[]"
   ]
  },
  {
   "cell_type": "code",
   "execution_count": null,
   "id": "540c2675-da0b-465a-b17f-a753cd2818a0",
   "metadata": {},
   "outputs": [],
   "source": [
    "comments=soup.find_all(\"p\",class_=\"z9E0IG\")"
   ]
  },
  {
   "cell_type": "code",
   "execution_count": null,
   "id": "30ffaab1-d473-419e-816c-6b2787c6d90f",
   "metadata": {},
   "outputs": [],
   "source": [
    "for i in comments:\n",
    "    comments.append(i)"
   ]
  },
  {
   "cell_type": "code",
   "execution_count": null,
   "id": "e9bd9518-22ad-408d-ae21-95726c4bad2f",
   "metadata": {},
   "outputs": [],
   "source": [
    "comments"
   ]
  },
  {
   "cell_type": "code",
   "execution_count": null,
   "id": "554f46dc-b6e6-4a06-b26a-4bc5df8d1de5",
   "metadata": {},
   "outputs": [],
   "source": [
    "df=pd.DataFrame({\"cust\":cust_name,\"rating\":rating,\"comments\":comments})"
   ]
  },
  {
   "cell_type": "code",
   "execution_count": null,
   "id": "35c601cf-2ffc-4200-9575-d81309dacb1f",
   "metadata": {},
   "outputs": [],
   "source": [
    "df.head()"
   ]
  },
  {
   "cell_type": "code",
   "execution_count": null,
   "id": "6b76ac50-1928-4b5b-84f7-aea69c188ef9",
   "metadata": {},
   "outputs": [],
   "source": []
  }
 ],
 "metadata": {
  "kernelspec": {
   "display_name": "Python 3 (ipykernel)",
   "language": "python",
   "name": "python3"
  },
  "language_info": {
   "codemirror_mode": {
    "name": "ipython",
    "version": 3
   },
   "file_extension": ".py",
   "mimetype": "text/x-python",
   "name": "python",
   "nbconvert_exporter": "python",
   "pygments_lexer": "ipython3",
   "version": "3.10.4"
  }
 },
 "nbformat": 4,
 "nbformat_minor": 5
}
